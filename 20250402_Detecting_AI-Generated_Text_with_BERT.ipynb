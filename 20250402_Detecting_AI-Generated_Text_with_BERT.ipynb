{
 "cells": [
  {
   "cell_type": "markdown",
   "id": "584287f0-003e-4909-9d74-c3c66e0424ca",
   "metadata": {},
   "source": [
    "\"\"\"\n",
    "📘 Project: Detecting AI-Generated Text with BERT\n",
    "👤 Author: YI LUO\n",
    "📅 Date: 2025-04-02\n",
    "\n",
    "🔗 Dataset Source:\n",
    "Kaggle Competition - \"LLM: Detect AI-Generated Text\"  \n",
    "https://www.kaggle.com/competitions/llm-detect-ai-generated-text/data\n",
    "\n",
    "🧠 Objective:\n",
    "This project aims to build a binary classifier that can distinguish between human-written and AI-generated short essays using pre-trained transformer models (e.g., BERT).\n",
    "\n",
    "📊 Data Summary:\n",
    "- Training set includes ~1,378 short essays, each labeled as:\n",
    "  - `0`: Human-written\n",
    "  - `1`: AI-generated\n",
    "- A supplemental file (`train_prompts.csv`) provides metadata including:\n",
    "  - Prompt topic, source text, and writing instructions\n",
    "- The dataset is **highly imbalanced**, with only **3 AI-generated** samples.\n",
    "\n",
    "🧪 What We Did:\n",
    "1. **Merged essay text with prompt metadata** to enrich model input\n",
    "2. **Explored label distribution** and identified extreme imbalance\n",
    "3. **Visualized prompt usage** to understand data context diversity\n",
    "4. **Preprocessed data** using HuggingFace tokenizer (`bert-base-uncased`)\n",
    "5. **Fine-tuned a BERT classifier** using PyTorch and BCE loss\n",
    "6. **Evaluated performance** on a validation set (accuracy reported)\n",
    "7. **Predicted on test data** and formatted submission for Kaggle\n",
    "\n",
    "📈 Key Insights:\n",
    "- The dataset is not only small but also extremely skewed (~0.2% positive class)\n",
    "- Prompt metadata may provide additional semantic cues helpful for classification\n",
    "- 100% accuracy on validation set is misleading and likely reflects imbalance, not generalization\n",
    "\n",
    "📦 Output:\n",
    "- Predictions saved to: `submission.csv`\n",
    "- Ready for submission to Kaggle or review in a real-world model evaluation pipeline\n",
    "\n",
    "This notebook serves as a complete and reproducible example of how to approach a text classification task with BERT, featuring clean structure and documentation for portfolio-quality presentation.\n",
    "\"\"\""
   ]
  },
  {
   "cell_type": "code",
   "execution_count": 1,
   "id": "7c30f7b5-26a3-4a5a-b3cf-a1d615cefa2c",
   "metadata": {},
   "outputs": [
    {
     "data": {
      "text/html": [
       "<div>\n",
       "<style scoped>\n",
       "    .dataframe tbody tr th:only-of-type {\n",
       "        vertical-align: middle;\n",
       "    }\n",
       "\n",
       "    .dataframe tbody tr th {\n",
       "        vertical-align: top;\n",
       "    }\n",
       "\n",
       "    .dataframe thead th {\n",
       "        text-align: right;\n",
       "    }\n",
       "</style>\n",
       "<table border=\"1\" class=\"dataframe\">\n",
       "  <thead>\n",
       "    <tr style=\"text-align: right;\">\n",
       "      <th></th>\n",
       "      <th>input_text</th>\n",
       "      <th>label</th>\n",
       "    </tr>\n",
       "  </thead>\n",
       "  <tbody>\n",
       "    <tr>\n",
       "      <th>0</th>\n",
       "      <td>[PROMPT] Write an explanatory essay to inform fellow citizens about the advantages of limiting car usage. Your essay must be based on ideas and information that can be found in the passage set. Ma...</td>\n",
       "      <td>0</td>\n",
       "    </tr>\n",
       "    <tr>\n",
       "      <th>1</th>\n",
       "      <td>[PROMPT] Write an explanatory essay to inform fellow citizens about the advantages of limiting car usage. Your essay must be based on ideas and information that can be found in the passage set. Ma...</td>\n",
       "      <td>0</td>\n",
       "    </tr>\n",
       "    <tr>\n",
       "      <th>2</th>\n",
       "      <td>[PROMPT] Write an explanatory essay to inform fellow citizens about the advantages of limiting car usage. Your essay must be based on ideas and information that can be found in the passage set. Ma...</td>\n",
       "      <td>0</td>\n",
       "    </tr>\n",
       "    <tr>\n",
       "      <th>3</th>\n",
       "      <td>[PROMPT] Write an explanatory essay to inform fellow citizens about the advantages of limiting car usage. Your essay must be based on ideas and information that can be found in the passage set. Ma...</td>\n",
       "      <td>0</td>\n",
       "    </tr>\n",
       "    <tr>\n",
       "      <th>4</th>\n",
       "      <td>[PROMPT] Write an explanatory essay to inform fellow citizens about the advantages of limiting car usage. Your essay must be based on ideas and information that can be found in the passage set. Ma...</td>\n",
       "      <td>0</td>\n",
       "    </tr>\n",
       "  </tbody>\n",
       "</table>\n",
       "</div>"
      ],
      "text/plain": [
       "                                                                                                                                                                                                input_text  \\\n",
       "0  [PROMPT] Write an explanatory essay to inform fellow citizens about the advantages of limiting car usage. Your essay must be based on ideas and information that can be found in the passage set. Ma...   \n",
       "1  [PROMPT] Write an explanatory essay to inform fellow citizens about the advantages of limiting car usage. Your essay must be based on ideas and information that can be found in the passage set. Ma...   \n",
       "2  [PROMPT] Write an explanatory essay to inform fellow citizens about the advantages of limiting car usage. Your essay must be based on ideas and information that can be found in the passage set. Ma...   \n",
       "3  [PROMPT] Write an explanatory essay to inform fellow citizens about the advantages of limiting car usage. Your essay must be based on ideas and information that can be found in the passage set. Ma...   \n",
       "4  [PROMPT] Write an explanatory essay to inform fellow citizens about the advantages of limiting car usage. Your essay must be based on ideas and information that can be found in the passage set. Ma...   \n",
       "\n",
       "   label  \n",
       "0      0  \n",
       "1      0  \n",
       "2      0  \n",
       "3      0  \n",
       "4      0  "
      ]
     },
     "execution_count": 1,
     "metadata": {},
     "output_type": "execute_result"
    }
   ],
   "source": [
    "# 📦 Imports\n",
    "import pandas as pd\n",
    "import numpy as np\n",
    "import matplotlib.pyplot as plt\n",
    "import seaborn as sns\n",
    "\n",
    "\n",
    "# Suppress warnings for cleaner output\n",
    "import warnings\n",
    "warnings.filterwarnings('ignore')\n",
    "\n",
    "# ⚙️ Display settings\n",
    "pd.set_option('display.max_colwidth', 200)\n",
    "sns.set(style=\"whitegrid\")\n",
    "\n",
    "# ✅ Load data\n",
    "essays = pd.read_csv(\"/Users/luoyi/Desktop/10_kaggle/06_llm-detect-ai-generated-text/train_essays.csv\")\n",
    "prompts = pd.read_csv(\"/Users/luoyi/Desktop/10_kaggle/06_llm-detect-ai-generated-text/train_prompts.csv\")\n",
    "\n",
    "# Rename label column for consistency\n",
    "essays.rename(columns={\"generated\": \"label\"}, inplace=True)\n",
    "\n",
    "# 📌 Merge prompt metadata\n",
    "df = essays.merge(prompts, on=\"prompt_id\", how=\"left\")\n",
    "\n",
    "# 🧠 Construct input text (instruction + essay text)\n",
    "df[\"input_text\"] = \"[PROMPT] \" + df[\"instructions\"] + \" [ESSAY] \" + df[\"text\"]\n",
    "\n",
    "# 🔍 Show example\n",
    "df[[\"input_text\", \"label\"]].head()"
   ]
  },
  {
   "cell_type": "code",
   "execution_count": 2,
   "id": "2f486fa5-ced2-427b-90e0-7fec55ff208a",
   "metadata": {},
   "outputs": [
    {
     "data": {
      "image/png": "[encoded data removed]",
      "text/plain": [
       "<Figure size 600x400 with 1 Axes>"
      ]
     },
     "metadata": {},
     "output_type": "display_data"
    },
    {
     "name": "stdout",
     "output_type": "stream",
     "text": [
      "⚠️ Only 0.22% of samples are AI-generated. Consider balancing during training.\n",
      "\n",
      "📝 Top 5 Most Frequent Prompts:\n",
      "prompt_name\n",
      "Car-free cities                     708\n",
      "Does the electoral college work?    670\n",
      "Name: count, dtype: int64\n"
     ]
    },
    {
     "data": {
      "image/png": "[encoded data removed]",
      "text/plain": [
       "<Figure size 1000x500 with 1 Axes>"
      ]
     },
     "metadata": {},
     "output_type": "display_data"
    }
   ],
   "source": [
    "# 📊 Count label distribution\n",
    "label_counts = df['label'].value_counts().sort_index()\n",
    "label_names = ['Human-written', 'AI-generated']\n",
    "\n",
    "# 📈 Plot class imbalance\n",
    "plt.figure(figsize=(6,4))\n",
    "sns.barplot(x=label_names, y=label_counts.values, palette=\"viridis\")\n",
    "plt.title(\"Distribution of Essay Labels\")\n",
    "plt.ylabel(\"Count\")\n",
    "plt.xlabel(\"Label\")\n",
    "for i, count in enumerate(label_counts.values):\n",
    "    plt.text(i, count + 5, str(count), ha='center', fontweight='bold')\n",
    "plt.tight_layout()\n",
    "plt.show()\n",
    "\n",
    "# 🧠 Insight: Check proportion of AI-generated\n",
    "ai_ratio = label_counts[1] / label_counts.sum()\n",
    "print(f\"⚠️ Only {ai_ratio:.2%} of samples are AI-generated. Consider balancing during training.\")\n",
    "\n",
    "# 📚 Prompt usage statistics\n",
    "prompt_counts = df['prompt_name'].value_counts()\n",
    "print(\"\\n📝 Top 5 Most Frequent Prompts:\")\n",
    "print(prompt_counts.head())\n",
    "\n",
    "# 📈 Plot prompt frequency\n",
    "plt.figure(figsize=(10,5))\n",
    "sns.countplot(data=df, y='prompt_name', order=prompt_counts.index, palette='coolwarm')\n",
    "plt.title(\"Essay Count per Prompt\")\n",
    "plt.xlabel(\"Count\")\n",
    "plt.ylabel(\"Prompt\")\n",
    "plt.tight_layout()\n",
    "plt.show()"
   ]
  },
  {
   "cell_type": "code",
   "execution_count": 3,
   "id": "4daed9e0-f700-4638-a6ff-24a176a49693",
   "metadata": {},
   "outputs": [
    {
     "name": "stdout",
     "output_type": "stream",
     "text": [
      "📚 Train samples: 1240, Validation samples: 138\n",
      "✅ Tokenization & DataLoaders ready.\n"
     ]
    }
   ],
   "source": [
    "from sklearn.model_selection import train_test_split\n",
    "from transformers import AutoTokenizer\n",
    "from torch.utils.data import Dataset, DataLoader\n",
    "import torch\n",
    "\n",
    "# ✅ Stratified train/val split\n",
    "train_texts, val_texts, train_labels, val_labels = train_test_split(\n",
    "    df[\"input_text\"].tolist(),\n",
    "    df[\"label\"].tolist(),\n",
    "    test_size=0.1,\n",
    "    stratify=df[\"label\"],\n",
    "    random_state=42\n",
    ")\n",
    "\n",
    "print(f\"📚 Train samples: {len(train_texts)}, Validation samples: {len(val_texts)}\")\n",
    "\n",
    "# ✅ Load tokenizer (you can swap in e.g., 'albert-base-v2',  \"bert-base-uncased\")\n",
    "model_name = 'albert-base-v2'\n",
    "tokenizer = AutoTokenizer.from_pretrained(model_name)\n",
    "\n",
    "# ✅ Custom PyTorch Dataset\n",
    "class EssayDataset(Dataset):\n",
    "    def __init__(self, texts, labels, tokenizer, max_len=256):\n",
    "        self.texts = texts\n",
    "        self.labels = labels\n",
    "        self.tokenizer = tokenizer\n",
    "        self.max_len = max_len\n",
    "\n",
    "    def __len__(self):\n",
    "        return len(self.texts)\n",
    "\n",
    "    def __getitem__(self, idx):\n",
    "        encoding = self.tokenizer(\n",
    "            self.texts[idx],\n",
    "            truncation=True,\n",
    "            padding='max_length',\n",
    "            max_length=self.max_len,\n",
    "            return_tensors=\"pt\"\n",
    "        )\n",
    "        return {\n",
    "            'input_ids': encoding['input_ids'].squeeze(),\n",
    "            'attention_mask': encoding['attention_mask'].squeeze(),\n",
    "            'label': torch.tensor(self.labels[idx], dtype=torch.float)\n",
    "        }\n",
    "\n",
    "# ✅ Wrap into DataLoaders\n",
    "batch_size = 4\n",
    "train_ds = EssayDataset(train_texts, train_labels, tokenizer)\n",
    "val_ds = EssayDataset(val_texts, val_labels, tokenizer)\n",
    "\n",
    "train_loader = DataLoader(train_ds, batch_size=batch_size, shuffle=True)\n",
    "val_loader = DataLoader(val_ds, batch_size=batch_size)\n",
    "\n",
    "print(\"✅ Tokenization & DataLoaders ready.\")"
   ]
  },
  {
   "cell_type": "code",
   "execution_count": 4,
   "id": "2797018c-ad9c-4ca0-8070-a42e38a5efb1",
   "metadata": {},
   "outputs": [
    {
     "name": "stdout",
     "output_type": "stream",
     "text": [
      "📡 Using device: mps\n"
     ]
    }
   ],
   "source": [
    "import torch.nn as nn\n",
    "from transformers import AutoModel, AutoConfig, AdamW\n",
    "\n",
    "# ✅ Detect device\n",
    "device = torch.device(\"mps\" if torch.backends.mps.is_available() else \"cuda\" if torch.cuda.is_available() else \"cpu\")\n",
    "print(f\"📡 Using device: {device}\")\n",
    "\n",
    "# ✅ Model definition\n",
    "class BERTClassifier(nn.Module):\n",
    "    def __init__(self, model_name):\n",
    "        super().__init__()\n",
    "        config = AutoConfig.from_pretrained(model_name)\n",
    "        self.encoder = AutoModel.from_pretrained(model_name, config=config)\n",
    "        self.classifier = nn.Linear(config.hidden_size, 1)\n",
    "\n",
    "    def forward(self, input_ids, attention_mask):\n",
    "        outputs = self.encoder(input_ids=input_ids, attention_mask=attention_mask)\n",
    "        cls_token = outputs.last_hidden_state[:, 0]  # use [CLS] token\n",
    "        logits = self.classifier(cls_token)\n",
    "        return logits\n",
    "\n",
    "# ✅ Initialize model\n",
    "model = BERTClassifier(model_name).to(device)\n",
    "\n",
    "# ✅ Loss function (binary classification)\n",
    "loss_fn = nn.BCEWithLogitsLoss()\n",
    "\n",
    "# ✅ Optimizer (AdamW is standard for transformers)\n",
    "optimizer = AdamW(model.parameters(), lr=2e-5)"
   ]
  },
  {
   "cell_type": "code",
   "execution_count": 5,
   "id": "1d637466-5755-4877-9c70-2ac29e67a0c2",
   "metadata": {},
   "outputs": [
    {
     "name": "stdout",
     "output_type": "stream",
     "text": [
      "🚀 Starting training...\n"
     ]
    },
    {
     "name": "stderr",
     "output_type": "stream",
     "text": [
      "Epoch 0:   3%|▌                 | 10/310 [00:03<01:32,  3.23it/s, loss=0.000681]"
     ]
    },
    {
     "name": "stdout",
     "output_type": "stream",
     "text": [
      "🧠 Step 10 | Loss: 0.0007\n"
     ]
    },
    {
     "name": "stderr",
     "output_type": "stream",
     "text": [
      "Epoch 0:   6%|█▏                | 20/310 [00:06<01:29,  3.26it/s, loss=0.000249]"
     ]
    },
    {
     "name": "stdout",
     "output_type": "stream",
     "text": [
      "🧠 Step 20 | Loss: 0.0002\n"
     ]
    },
    {
     "name": "stderr",
     "output_type": "stream",
     "text": [
      "Epoch 0:  10%|█▋                | 30/310 [00:09<01:36,  2.90it/s, loss=0.000115]"
     ]
    },
    {
     "name": "stdout",
     "output_type": "stream",
     "text": [
      "🧠 Step 30 | Loss: 0.0001\n"
     ]
    },
    {
     "name": "stderr",
     "output_type": "stream",
     "text": [
      "Epoch 0:  13%|██▍                | 40/310 [00:12<01:23,  3.25it/s, loss=0.00225]"
     ]
    },
    {
     "name": "stdout",
     "output_type": "stream",
     "text": [
      "🧠 Step 40 | Loss: 0.0023\n"
     ]
    },
    {
     "name": "stderr",
     "output_type": "stream",
     "text": [
      "Epoch 0:  16%|███                | 50/310 [00:15<01:19,  3.26it/s, loss=0.00756]"
     ]
    },
    {
     "name": "stdout",
     "output_type": "stream",
     "text": [
      "🧠 Step 50 | Loss: 0.0076\n"
     ]
    },
    {
     "name": "stderr",
     "output_type": "stream",
     "text": [
      "Epoch 0:  19%|███▋               | 60/310 [00:19<01:24,  2.96it/s, loss=0.00179]"
     ]
    },
    {
     "name": "stdout",
     "output_type": "stream",
     "text": [
      "🧠 Step 60 | Loss: 0.0018\n"
     ]
    },
    {
     "name": "stderr",
     "output_type": "stream",
     "text": [
      "Epoch 0:  23%|████              | 70/310 [00:22<01:17,  3.11it/s, loss=0.000987]"
     ]
    },
    {
     "name": "stdout",
     "output_type": "stream",
     "text": [
      "🧠 Step 70 | Loss: 0.0010\n"
     ]
    },
    {
     "name": "stderr",
     "output_type": "stream",
     "text": [
      "Epoch 0:  26%|████▋             | 80/310 [00:25<01:10,  3.27it/s, loss=0.000549]"
     ]
    },
    {
     "name": "stdout",
     "output_type": "stream",
     "text": [
      "🧠 Step 80 | Loss: 0.0005\n"
     ]
    },
    {
     "name": "stderr",
     "output_type": "stream",
     "text": [
      "Epoch 0:  29%|█████▏            | 90/310 [00:28<01:11,  3.08it/s, loss=0.000419]"
     ]
    },
    {
     "name": "stdout",
     "output_type": "stream",
     "text": [
      "🧠 Step 90 | Loss: 0.0004\n"
     ]
    },
    {
     "name": "stderr",
     "output_type": "stream",
     "text": [
      "Epoch 0:  32%|█████▊            | 100/310 [00:32<01:06,  3.18it/s, loss=0.00862]"
     ]
    },
    {
     "name": "stdout",
     "output_type": "stream",
     "text": [
      "🧠 Step 100 | Loss: 0.0086\n"
     ]
    },
    {
     "name": "stderr",
     "output_type": "stream",
     "text": [
      "Epoch 0:  35%|██████▍           | 110/310 [00:35<01:01,  3.23it/s, loss=0.00825]"
     ]
    },
    {
     "name": "stdout",
     "output_type": "stream",
     "text": [
      "🧠 Step 110 | Loss: 0.0083\n"
     ]
    },
    {
     "name": "stderr",
     "output_type": "stream",
     "text": [
      "Epoch 0:  39%|██████▉           | 120/310 [00:38<01:01,  3.11it/s, loss=0.00227]"
     ]
    },
    {
     "name": "stdout",
     "output_type": "stream",
     "text": [
      "🧠 Step 120 | Loss: 0.0023\n"
     ]
    },
    {
     "name": "stderr",
     "output_type": "stream",
     "text": [
      "Epoch 0:  42%|████████▍           | 130/310 [00:41<00:57,  3.14it/s, loss=0.001]"
     ]
    },
    {
     "name": "stdout",
     "output_type": "stream",
     "text": [
      "🧠 Step 130 | Loss: 0.0010\n"
     ]
    },
    {
     "name": "stderr",
     "output_type": "stream",
     "text": [
      "Epoch 0:  45%|███████▋         | 140/310 [00:44<00:51,  3.29it/s, loss=0.000603]"
     ]
    },
    {
     "name": "stdout",
     "output_type": "stream",
     "text": [
      "🧠 Step 140 | Loss: 0.0006\n"
     ]
    },
    {
     "name": "stderr",
     "output_type": "stream",
     "text": [
      "Epoch 0:  48%|████████▏        | 150/310 [00:47<00:49,  3.23it/s, loss=0.000444]"
     ]
    },
    {
     "name": "stdout",
     "output_type": "stream",
     "text": [
      "🧠 Step 150 | Loss: 0.0004\n"
     ]
    },
    {
     "name": "stderr",
     "output_type": "stream",
     "text": [
      "Epoch 0:  52%|████████▊        | 160/310 [00:50<00:51,  2.94it/s, loss=0.000346]"
     ]
    },
    {
     "name": "stdout",
     "output_type": "stream",
     "text": [
      "🧠 Step 160 | Loss: 0.0003\n"
     ]
    },
    {
     "name": "stderr",
     "output_type": "stream",
     "text": [
      "Epoch 0:  55%|██████████▉         | 170/310 [00:54<00:43,  3.22it/s, loss=0.013]"
     ]
    },
    {
     "name": "stdout",
     "output_type": "stream",
     "text": [
      "🧠 Step 170 | Loss: 0.0130\n"
     ]
    },
    {
     "name": "stderr",
     "output_type": "stream",
     "text": [
      "Epoch 0:  58%|██████████▍       | 180/310 [00:57<00:39,  3.27it/s, loss=0.00518]"
     ]
    },
    {
     "name": "stdout",
     "output_type": "stream",
     "text": [
      "🧠 Step 180 | Loss: 0.0052\n"
     ]
    },
    {
     "name": "stderr",
     "output_type": "stream",
     "text": [
      "Epoch 0:  61%|███████████       | 190/310 [01:00<00:38,  3.10it/s, loss=0.00247]"
     ]
    },
    {
     "name": "stdout",
     "output_type": "stream",
     "text": [
      "🧠 Step 190 | Loss: 0.0025\n"
     ]
    },
    {
     "name": "stderr",
     "output_type": "stream",
     "text": [
      "Epoch 0:  65%|███████████▌      | 200/310 [01:03<00:34,  3.21it/s, loss=0.00136]"
     ]
    },
    {
     "name": "stdout",
     "output_type": "stream",
     "text": [
      "🧠 Step 200 | Loss: 0.0014\n"
     ]
    },
    {
     "name": "stderr",
     "output_type": "stream",
     "text": [
      "Epoch 0:  68%|███████████▌     | 210/310 [01:06<00:30,  3.24it/s, loss=0.000994]"
     ]
    },
    {
     "name": "stdout",
     "output_type": "stream",
     "text": [
      "🧠 Step 210 | Loss: 0.0010\n"
     ]
    },
    {
     "name": "stderr",
     "output_type": "stream",
     "text": [
      "Epoch 0:  71%|████████████     | 220/310 [01:09<00:27,  3.25it/s, loss=0.000762]"
     ]
    },
    {
     "name": "stdout",
     "output_type": "stream",
     "text": [
      "🧠 Step 220 | Loss: 0.0008\n"
     ]
    },
    {
     "name": "stderr",
     "output_type": "stream",
     "text": [
      "Epoch 0:  74%|████████████▌    | 230/310 [01:12<00:25,  3.18it/s, loss=0.000644]"
     ]
    },
    {
     "name": "stdout",
     "output_type": "stream",
     "text": [
      "🧠 Step 230 | Loss: 0.0006\n"
     ]
    },
    {
     "name": "stderr",
     "output_type": "stream",
     "text": [
      "Epoch 0:  77%|█████████████▏   | 240/310 [01:16<00:21,  3.23it/s, loss=0.000544]"
     ]
    },
    {
     "name": "stdout",
     "output_type": "stream",
     "text": [
      "🧠 Step 240 | Loss: 0.0005\n"
     ]
    },
    {
     "name": "stderr",
     "output_type": "stream",
     "text": [
      "Epoch 0:  81%|█████████████▋   | 250/310 [01:19<00:18,  3.26it/s, loss=0.000455]"
     ]
    },
    {
     "name": "stdout",
     "output_type": "stream",
     "text": [
      "🧠 Step 250 | Loss: 0.0005\n"
     ]
    },
    {
     "name": "stderr",
     "output_type": "stream",
     "text": [
      "Epoch 0:  84%|██████████████▎  | 260/310 [01:22<00:16,  3.05it/s, loss=0.000425]"
     ]
    },
    {
     "name": "stdout",
     "output_type": "stream",
     "text": [
      "🧠 Step 260 | Loss: 0.0004\n"
     ]
    },
    {
     "name": "stderr",
     "output_type": "stream",
     "text": [
      "Epoch 0:  87%|██████████████▊  | 270/310 [01:25<00:12,  3.17it/s, loss=0.000377]"
     ]
    },
    {
     "name": "stdout",
     "output_type": "stream",
     "text": [
      "🧠 Step 270 | Loss: 0.0004\n"
     ]
    },
    {
     "name": "stderr",
     "output_type": "stream",
     "text": [
      "Epoch 0:  90%|███████████████▎ | 280/310 [01:28<00:09,  3.25it/s, loss=0.000347]"
     ]
    },
    {
     "name": "stdout",
     "output_type": "stream",
     "text": [
      "🧠 Step 280 | Loss: 0.0003\n"
     ]
    },
    {
     "name": "stderr",
     "output_type": "stream",
     "text": [
      "Epoch 0:  94%|████████████████▊ | 290/310 [01:31<00:07,  2.80it/s, loss=0.00032]"
     ]
    },
    {
     "name": "stdout",
     "output_type": "stream",
     "text": [
      "🧠 Step 290 | Loss: 0.0003\n"
     ]
    },
    {
     "name": "stderr",
     "output_type": "stream",
     "text": [
      "Epoch 0:  97%|████████████████▍| 300/310 [01:35<00:03,  3.26it/s, loss=0.000293]"
     ]
    },
    {
     "name": "stdout",
     "output_type": "stream",
     "text": [
      "🧠 Step 300 | Loss: 0.0003\n"
     ]
    },
    {
     "name": "stderr",
     "output_type": "stream",
     "text": [
      "Epoch 0: 100%|█████████████████| 310/310 [01:38<00:00,  3.16it/s, loss=0.000272]\n"
     ]
    },
    {
     "name": "stdout",
     "output_type": "stream",
     "text": [
      "🧠 Step 310 | Loss: 0.0003\n",
      "✅ Training finished!\n",
      "\n",
      "🧪 Running validation...\n",
      "✅ Validation Accuracy: 1.0000\n"
     ]
    }
   ],
   "source": [
    "from sklearn.metrics import accuracy_score\n",
    "from tqdm import tqdm\n",
    "\n",
    "# ✅ Training loop\n",
    "print(\"🚀 Starting training...\")\n",
    "model.train()\n",
    "for epoch in range(1):  # You can increase to 3+ for better results\n",
    "    loop = tqdm(train_loader, total=len(train_loader))\n",
    "    for step, batch in enumerate(loop):\n",
    "        input_ids = batch['input_ids'].to(device)\n",
    "        attention_mask = batch['attention_mask'].to(device)\n",
    "        labels = batch['label'].to(device)\n",
    "\n",
    "        # Forward pass\n",
    "        logits = model(input_ids, attention_mask).view(-1)\n",
    "        loss = loss_fn(logits, labels)\n",
    "\n",
    "        # Backprop + optimize\n",
    "        optimizer.zero_grad()\n",
    "        loss.backward()\n",
    "        optimizer.step()\n",
    "\n",
    "        loop.set_description(f\"Epoch {epoch}\")\n",
    "        loop.set_postfix(loss=loss.item())\n",
    "        if (step + 1) % 10 == 0:\n",
    "            print(f\"🧠 Step {step+1} | Loss: {loss.item():.4f}\")\n",
    "\n",
    "print(\"✅ Training finished!\")\n",
    "\n",
    "# ✅ Validation\n",
    "print(\"\\n🧪 Running validation...\")\n",
    "model.eval()\n",
    "all_preds, all_labels = [], []\n",
    "\n",
    "with torch.no_grad():\n",
    "    for batch in val_loader:\n",
    "        input_ids = batch['input_ids'].to(device)\n",
    "        attention_mask = batch['attention_mask'].to(device)\n",
    "        labels = batch['label'].cpu().numpy()\n",
    "\n",
    "        logits = model(input_ids, attention_mask).view(-1)\n",
    "        probs = torch.sigmoid(logits).cpu().numpy()\n",
    "        preds = (probs > 0.5).astype(int)\n",
    "\n",
    "        all_preds.extend(preds)\n",
    "        all_labels.extend(labels)\n",
    "\n",
    "# ✅ Compute accuracy\n",
    "acc = accuracy_score(all_labels, all_preds)\n",
    "print(f\"✅ Validation Accuracy: {acc:.4f}\")"
   ]
  },
  {
   "cell_type": "code",
   "execution_count": 6,
   "id": "2b547e50-0040-4e41-9946-88ee04afc5e9",
   "metadata": {},
   "outputs": [
    {
     "name": "stdout",
     "output_type": "stream",
     "text": [
      "📦 Submission saved to: //Users/luoyi/Desktop/10_kaggle/06_llm-detect-ai-generated-text/submission.csv\n"
     ]
    }
   ],
   "source": [
    "# 📄 Load test file\n",
    "test_df = pd.read_csv(\"/Users/luoyi/Desktop/10_kaggle/06_llm-detect-ai-generated-text/test_essays.csv\")\n",
    "test_texts = test_df[\"text\"].tolist()\n",
    "ids = test_df[\"id\"].tolist()\n",
    "\n",
    "# ✅ Create test dataset\n",
    "class TestDataset(Dataset):\n",
    "    def __init__(self, texts, tokenizer, max_len=256):\n",
    "        self.texts = texts\n",
    "        self.tokenizer = tokenizer\n",
    "        self.max_len = max_len\n",
    "\n",
    "    def __len__(self):\n",
    "        return len(self.texts)\n",
    "\n",
    "    def __getitem__(self, idx):\n",
    "        encoding = self.tokenizer(\n",
    "            self.texts[idx],\n",
    "            truncation=True,\n",
    "            padding=\"max_length\",\n",
    "            max_length=self.max_len,\n",
    "            return_tensors=\"pt\"\n",
    "        )\n",
    "        return {\n",
    "            \"input_ids\": encoding[\"input_ids\"].squeeze(),\n",
    "            \"attention_mask\": encoding[\"attention_mask\"].squeeze()\n",
    "        }\n",
    "\n",
    "# ✅ Wrap in DataLoader\n",
    "test_ds = TestDataset(test_texts, tokenizer)\n",
    "test_loader = DataLoader(test_ds, batch_size=4)\n",
    "\n",
    "# ✅ Predict\n",
    "model.eval()\n",
    "pred_probs = []\n",
    "\n",
    "with torch.no_grad():\n",
    "    for batch in test_loader:\n",
    "        input_ids = batch[\"input_ids\"].to(device)\n",
    "        attention_mask = batch[\"attention_mask\"].to(device)\n",
    "\n",
    "        logits = model(input_ids, attention_mask).view(-1)\n",
    "        probs = torch.sigmoid(logits).cpu().numpy()\n",
    "        pred_probs.extend(probs)\n",
    "\n",
    "# ✅ Save as submission.csv\n",
    "sub_df = pd.DataFrame({\"id\": ids, \"generated\": pred_probs})\n",
    "sub_path = \"//Users/luoyi/Desktop/10_kaggle/06_llm-detect-ai-generated-text/submission.csv\"\n",
    "sub_df.to_csv(sub_path, index=False)\n",
    "print(f\"📦 Submission saved to: {sub_path}\")"
   ]
  }
 ],
 "metadata": {
  "kernelspec": {
   "display_name": "Python 3 (ipykernel)",
   "language": "python",
   "name": "python3"
  },
  "language_info": {
   "codemirror_mode": {
    "name": "ipython",
    "version": 3
   },
   "file_extension": ".py",
   "mimetype": "text/x-python",
   "name": "python",
   "nbconvert_exporter": "python",
   "pygments_lexer": "ipython3",
   "version": "3.10.13"
  }
 },
 "nbformat": 4,
 "nbformat_minor": 5
}
